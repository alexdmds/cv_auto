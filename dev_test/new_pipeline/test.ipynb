{
 "cells": [
  {
   "cell_type": "code",
   "execution_count": 1,
   "metadata": {},
   "outputs": [
    {
     "name": "stdout",
     "output_type": "stream",
     "text": [
      "Nous recherchons un Machine Learning Engineer pour rejoindre notre startup innovante à Paris. En CDI, avec un salaire compris entre 55k et 75k €, vous serez responsable de la conception, l'entraînement et le déploiement de modèles ML et Deep Learning. Vous travaillerez en étroite collaboration avec data scientists et équipes DevOps pour optimiser des pipelines de données et intégrer des solutions au sein de divers secteurs comme la finance et le retail. Vous maîtrisez Python, AWS, et les outils MLOps. Si vous avez une passion pour l'IA et un esprit analytique, rejoignez-nous pour des projets innovants.\n"
     ]
    }
   ],
   "source": [
    "import json\n",
    "from data_structures import GlobalState\n",
    "\n",
    "state_path = \"result_state.json\"\n",
    "with open(state_path, \"r\", encoding=\"utf-8\") as f:\n",
    "    data = json.load(f)\n",
    "\n",
    "# Création d'une instance de GlobalState à partir du JSON\n",
    "global_state = GlobalState.from_json(data)  # job_summary est optionnel\n",
    "\n",
    "#job summary\n",
    "print(global_state.job_refined)"
   ]
  },
  {
   "cell_type": "code",
   "execution_count": 2,
   "metadata": {},
   "outputs": [
    {
     "name": "stdout",
     "output_type": "stream",
     "text": [
      "Analyse des expériences:\n",
      "# Analyse des Expériences\n",
      "\n",
      "## Senior Data Scientist chez EY\n",
      "- Poids: 1\n",
      "- Ordre: 1\n",
      "- Justification: L'expérience en modernisation des équipes data engineering et le développement de modèles de Machine Learning, en plus de l'introduction de pratiques DevOps, sont directement en phase avec les responsabilités mentionnées dans le poste.\n",
      "\n",
      "## Co-fondateur et CTO chez Kadi\n",
      "- Poids: 0.9\n",
      "- Ordre: 2\n",
      "- Justification: La supervision de l'architecture et du déploiement de solutions basées sur l'IA et le cloud, ainsi que l'optimisation de pipelines de données, démontre une forte adéquation avec les compétences requises pour le poste.\n",
      "\n",
      "## Ingénieur en Transformation Digitale chez Blispac\n",
      "- Poids: 0.7\n",
      "- Ordre: 3\n",
      "- Justification: L'expérience en modernisation des processus et l'automatisation des tests, bien que moins axée sur le Machine Learning, témoigne d'une capacité d'optimisation et d'innovation qui peut être précieuse pour le rôle.\n",
      "\n",
      "## Analyste de Marché chez Total\n",
      "- Poids: 0.6\n",
      "- Ordre: 4\n",
      "- Justification: Le développement d'un algorithme en Python et l'utilisation de données pour la prise de décision montrent une compétence technique essentielle, même si l'expérience se concentre moins sur le Machine Learning et le déploiement en production.\n"
     ]
    }
   ],
   "source": [
    "from prioritize_exp import generate_markdown_choice\n",
    "\n",
    "# Préparation de l'état pour le test\n",
    "test_state = {\n",
    "    \"job_summary\": global_state.job_refined,\n",
    "    \"markdown_choice\": \"\",\n",
    "    \"experiences_raw\": global_state.experiences,\n",
    "    \"experiences_weighted\": [],\n",
    "    \"experiences_bullets\": []\n",
    "}\n",
    "\n",
    "# Test de la fonction\n",
    "result = generate_markdown_choice(test_state)\n",
    "\n",
    "# Affichage du résultat\n",
    "print(\"Analyse des expériences:\")\n",
    "print(result[\"markdown_choice\"])"
   ]
  },
  {
   "cell_type": "code",
   "execution_count": 10,
   "metadata": {},
   "outputs": [
    {
     "name": "stdout",
     "output_type": "stream",
     "text": [
      "\n",
      "Poids et ordre pour l'expérience Senior Data Scientist:\n",
      "Nombre de bullets: 4\n",
      "Ordre: 1\n"
     ]
    }
   ],
   "source": [
    "from prioritize_exp import weight_experiences\n",
    "\n",
    "# Préparation de l'état pour le test\n",
    "test_state = {\n",
    "    \"markdown_choice\": result[\"markdown_choice\"],\n",
    "    \"experience\": global_state.experiences[0]  # On prend la première expérience\n",
    "}\n",
    "\n",
    "# Test de la fonction\n",
    "result_weight = weight_experiences(test_state)\n",
    "\n",
    "# Affichage du résultat\n",
    "print(f\"\\nPoids et ordre pour l'expérience {test_state['experience'].title_raw}:\")\n",
    "print(f\"Nombre de bullets: {result_weight['experiences_weighted'][0].nb_bullets}\")\n",
    "print(f\"Ordre: {result_weight['experiences_weighted'][0].order}\")\n"
   ]
  }
 ],
 "metadata": {
  "language_info": {
   "name": "python"
  }
 },
 "nbformat": 4,
 "nbformat_minor": 2
}
