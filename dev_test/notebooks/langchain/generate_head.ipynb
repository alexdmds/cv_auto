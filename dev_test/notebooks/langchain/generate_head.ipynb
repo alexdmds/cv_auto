{
 "cells": [
  {
   "cell_type": "code",
   "execution_count": 6,
   "metadata": {},
   "outputs": [
    {
     "name": "stdout",
     "output_type": "stream",
     "text": [
      "Contenu du fichier source :\n",
      "Alexis de Monts\n",
      "Data Engineer / Data Scientist | Expert Cloud et Data\n",
      "Coordonnées : alexis.demonts.s@gmail.com 07 81 37 86 80 | LinkedIn\n",
      "Résumé général\n",
      "Fort d’une formation scientifique généraliste et d’une spécialisation en Data Science, je mets mes compétences au service de la transformation numérique des entreprises. Mon expertise couvre les domaines du Cloud (GCP, AWS), DevOps (CI/CD, Docker), MLOps, et l’intégration d’algorithmes de Machine Learning dans des solutions IT complexes.\n",
      "Mes réal...\n"
     ]
    }
   ],
   "source": [
    "\n",
    "from langchain_core.output_parsers import JsonOutputParser\n",
    "from langchain_core.prompts import PromptTemplate\n",
    "from langchain_openai import ChatOpenAI\n",
    "from pydantic import BaseModel, Field\n",
    "from typing import Optional\n",
    "import logging\n",
    "from backend.config import load_config\n",
    "\n",
    "# Configuration du logging\n",
    "logging.basicConfig(level=logging.INFO)\n",
    "logger = logging.getLogger(__name__)\n",
    "\n",
    "# %% [markdown]\n",
    "# ## 2. Définition du modèle de données\n",
    "\n",
    "# %%\n",
    "class HeadData(BaseModel):\n",
    "    nom: str = Field(description=\"Nom de famille du candidat\")\n",
    "    prenom: str = Field(description=\"Prénom du candidat\") \n",
    "    email: Optional[str] = Field(description=\"Adresse email du candidat\")\n",
    "    telephone: Optional[str] = Field(description=\"Numéro de téléphone du candidat\")\n",
    "    linkedin: Optional[str] = Field(description=\"Lien LinkedIn du candidat\")\n",
    "    presentation: str = Field(description=\"Courte présentation/résumé du candidat\")\n",
    "    hobbies: Optional[list] = Field(description=\"Liste des hobbies/centres d'intérêt du candidat\")\n",
    "\n",
    "# %% [markdown]\n",
    "# ## 3. Lecture du fichier source\n",
    "\n",
    "# %%\n",
    "with open('source_brut.txt', 'r', encoding='utf-8') as file:\n",
    "    source_text = file.read()\n",
    "\n",
    "print(\"Contenu du fichier source :\")\n",
    "print(source_text[:500] + \"...\") # Affiche les 500 premiers caractères\n",
    "\n",
    "\n"
   ]
  },
  {
   "cell_type": "code",
   "execution_count": 7,
   "metadata": {},
   "outputs": [],
   "source": [
    "# %% [markdown]\n",
    "# ## 4. Configuration du LLM et du parser\n",
    "\n",
    "# Initialisation du modèle LLM\n",
    "llm = ChatOpenAI(\n",
    "    model_name=\"gpt-4o-mini\",\n",
    "    temperature=0\n",
    ")\n",
    "\n",
    "# Parser JSON\n",
    "parser = JsonOutputParser(pydantic_object=HeadData)\n",
    "\n",
    "# Template du prompt\n",
    "prompt = PromptTemplate(\n",
    "    template=\"\"\"\n",
    "    Analyse le texte suivant et extrait uniquement les informations personnelles du candidat.\n",
    "    Ne prends pas en compte les expériences professionnelles ni la formation.\n",
    "    \n",
    "    {format_instructions}\n",
    "    \n",
    "    Texte source:\n",
    "    {source}\n",
    "    \"\"\",\n",
    "    input_variables=[\"source\"],\n",
    "    partial_variables={\"format_instructions\": parser.get_format_instructions()}\n",
    ")\n",
    "\n",
    "# %% [markdown]\n",
    "# ## 5. Exécution de la chaîne et extraction des données\n",
    "\n",
    "# %%\n",
    "# Création de la chaîne\n",
    "chain = prompt | llm | parser\n",
    "\n"
   ]
  },
  {
   "cell_type": "code",
   "execution_count": 9,
   "metadata": {},
   "outputs": [
    {
     "name": "stderr",
     "output_type": "stream",
     "text": [
      "INFO:httpx:HTTP Request: POST https://api.openai.com/v1/chat/completions \"HTTP/1.1 200 OK\"\n"
     ]
    },
    {
     "name": "stdout",
     "output_type": "stream",
     "text": [
      "Données extraites du CV :\n",
      "nom: de Monts\n",
      "prenom: Alexis\n",
      "email: alexis.demonts.s@gmail.com\n",
      "telephone: 07 81 37 86 80\n",
      "linkedin: www.linkedin.com/in/alexis-demonts-61328a175\n",
      "presentation: Ingénieur des Ponts et Chaussées | Expert Cloud et Data. Fort d’une formation scientifique généraliste et d’une spécialisation en Data Science au Politecnico di Milano, j’aide les entreprises à transformer leurs données en valeur.\n",
      "hobbies: None\n"
     ]
    }
   ],
   "source": [
    "# Exécution\n",
    "head_data = chain.invoke({\"source\": source_text})\n",
    "\n",
    "# %% [markdown]\n",
    "# ## 6. Affichage des résultats\n",
    "\n",
    "# %%\n",
    "print(\"Données extraites du CV :\")\n",
    "for key, value in head_data.items():\n",
    "    print(f\"{key}: {value}\")\n"
   ]
  }
 ],
 "metadata": {
  "language_info": {
   "name": "python"
  }
 },
 "nbformat": 4,
 "nbformat_minor": 2
}
